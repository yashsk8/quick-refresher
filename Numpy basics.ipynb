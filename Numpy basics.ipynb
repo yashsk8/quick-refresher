{
 "cells": [
  {
   "cell_type": "markdown",
   "id": "111df2c2",
   "metadata": {},
   "source": [
    "## Numpy"
   ]
  },
  {
   "cell_type": "code",
   "execution_count": 10,
   "id": "b325d8f7",
   "metadata": {},
   "outputs": [],
   "source": [
    "import numpy as np"
   ]
  },
  {
   "cell_type": "markdown",
   "id": "303f9177",
   "metadata": {},
   "source": [
    "##### Numpy Arrays"
   ]
  },
  {
   "cell_type": "code",
   "execution_count": null,
   "id": "6b7a33bb",
   "metadata": {},
   "outputs": [],
   "source": [
    "#create 2d array\n",
    "arr = np.array([[0, 1, 2], [3, 4, 5]])\n",
    "#create 2d array with dtype\n",
    "arr = np.array([[0, 1, 2], [3, 4, 5]],dtype=np.float32)\n",
    "#cast np array to other dtype\n",
    "arr = arr.astype(np.float32)\n",
    "#copy np array\n",
    "arr1 = arr #arr1 is reference to arr\n",
    "arr2 = arr.copy() #arr2 is clone of arr\n",
    "#Use Nan\n",
    "arr = np.array([np.nan, 1, 2])\n",
    "#Use Infinity\n",
    "np.inf #positive\n",
    "-np.inf #negative\n",
    "\n",
    "#zeros & ones\n",
    "arr = np.zeros(4)\n",
    "arr = np.ones((2, 3), dtype=np.int32)\n",
    "\n",
    "arr = np.zeros_like(arr) #create ones array using dimension of some other array\n",
    "arr = np.ones_like(arr, dtype=np.int32)"
   ]
  },
  {
   "cell_type": "markdown",
   "id": "cc5af0b5",
   "metadata": {},
   "source": [
    "##### Manipulation"
   ]
  },
  {
   "cell_type": "code",
   "execution_count": null,
   "id": "771181e3",
   "metadata": {},
   "outputs": [],
   "source": [
    "#fill diagonal entries\n",
    "np.fill_diagonal(data, 0)"
   ]
  },
  {
   "cell_type": "code",
   "execution_count": null,
   "id": "c6901d17",
   "metadata": {},
   "outputs": [],
   "source": [
    "#reshaping data\n",
    "reshaped_arr = np.reshape(arr, (2, 4))\n",
    "reshaped_arr = np.reshape(arr, (-1, 2, 2)) #-1=>automatically set this value (possible to set -1 for atmost 1 dimension)\n",
    "\n",
    "#to flatten data to 1D\n",
    "flattened = arr.flatten()\n",
    "\n",
    "#concatenate\n",
    "np.concatenate([arr1, arr2])\n",
    "np.concatenate([arr1, arr2], axis=1)"
   ]
  },
  {
   "cell_type": "code",
   "execution_count": null,
   "id": "87124057",
   "metadata": {},
   "outputs": [],
   "source": [
    "#transposing\n",
    "transposed = np.transpose(arr, axes=(1, 0, 2)) #transpose 1st dim to 2nd, 2nd to 1st, and don't transpose 3rd"
   ]
  },
  {
   "cell_type": "markdown",
   "id": "c626caf8",
   "metadata": {},
   "source": [
    "##### Ranges"
   ]
  },
  {
   "cell_type": "code",
   "execution_count": null,
   "id": "3f2ea747",
   "metadata": {},
   "outputs": [],
   "source": [
    "#ranges in numpy - use arange function\n",
    "arr = np.arange(a)\n",
    "arr = np.arange(a, b, step_size, dtype=np.float32)\n",
    "\n",
    "#linspace\n",
    "arr = np.linspace(a, b, num=number_of_values_needed, endpoint=False, dtype=np.int32) #endpoint - incl/excl b"
   ]
  },
  {
   "cell_type": "markdown",
   "id": "48769e0f",
   "metadata": {},
   "source": [
    "##### Math"
   ]
  },
  {
   "cell_type": "code",
   "execution_count": null,
   "id": "1f5f7d6e",
   "metadata": {},
   "outputs": [],
   "source": [
    "#array math\n",
    "arr = np.array([[1, 2], [3, 4]])\n",
    "# Add 1 to element values\n",
    "print(repr(arr + 1))\n",
    "# Subtract element values by 1.2\n",
    "print(repr(arr - 1.2))\n",
    "# Double element values\n",
    "print(repr(arr * 2))\n",
    "# Halve element values\n",
    "print(repr(arr / 2))\n",
    "# Integer division (half)\n",
    "print(repr(arr // 2))\n",
    "# Square element values\n",
    "print(repr(arr**2))\n",
    "# Square root element values\n",
    "print(repr(arr**0.5))\n",
    "\n",
    "#It is important to note that performing arithmetic on NumPy arrays does not change the original array, and instead produces a new array that is the result of the arithmetic operation.\n",
    "\n",
    "# Raised to power of e\n",
    "print(repr(np.exp(arr)))\n",
    "# Raised to power of 2\n",
    "print(repr(np.exp2(arr)))\n",
    "# Raise 3 to power of each number in arr\n",
    "print(repr(np.power(3, arr)))\n",
    "# Raise arr2 to power of each number in arr\n",
    "print(repr(np.power(arr2, arr)))\n",
    "\n",
    "arr2 = np.array([[1, 10], [np.e, np.pi]])\n",
    "# Natural logarithm\n",
    "print(repr(np.log(arr2)))\n",
    "# Base 10 logarithm\n",
    "print(repr(np.log10(arr2)))\n",
    "\n",
    "#matrix maths operations\n",
    "\n",
    "#dot product or matrix multiplication\n",
    "arr = np.matmul(arr1, arr2)"
   ]
  },
  {
   "cell_type": "markdown",
   "id": "00987bd1",
   "metadata": {},
   "source": [
    "###### Random"
   ]
  },
  {
   "cell_type": "code",
   "execution_count": null,
   "id": "394e0814",
   "metadata": {},
   "outputs": [],
   "source": [
    "#Random\n",
    "print(np.random.randint(5))\n",
    "print(np.random.randint(5, high=6))\n",
    "random_arr = np.random.randint(-3, high=14, size=(2, 2))\n",
    "\n",
    "#set random seed\n",
    "np.random.seed(42)\n",
    "\n",
    "#randomly shuffle array\n",
    "np.random.shuffle(arr)\n",
    "\n",
    "#draw random from a probaility distribution\n",
    "#from uniform\n",
    "arr = np.random.uniform(low=-3.4, high=5.9, size=(2, 2))\n",
    "#from gaussian\n",
    "arr = np.random.normal(loc=-2.4, scale=4.0, size=(2, 2)) #loc->mean scale->std deviation\n",
    "#from custom distribution\n",
    "arr = np.random.choice(inp, size=(2, 2), p=[0.8, 0.19, 0.01]) #p.shape()=inp.shape() and sum(p)= 1"
   ]
  },
  {
   "cell_type": "markdown",
   "id": "0e76cef9",
   "metadata": {},
   "source": [
    "###### Indexing and slicing"
   ]
  },
  {
   "cell_type": "code",
   "execution_count": 1,
   "id": "34b0f080",
   "metadata": {},
   "outputs": [
    {
     "data": {
      "application/javascript": [
       "\n",
       "        if (window._pyforest_update_imports_cell) { window._pyforest_update_imports_cell('import numpy as np'); }\n",
       "    "
      ],
      "text/plain": [
       "<IPython.core.display.Javascript object>"
      ]
     },
     "metadata": {},
     "output_type": "display_data"
    },
    {
     "name": "stdout",
     "output_type": "stream",
     "text": [
      "array([[1, 2, 3],\n",
      "       [4, 5, 6],\n",
      "       [7, 8, 9]])\n",
      "array([[4, 5, 6],\n",
      "       [7, 8, 9]])\n",
      "array([3, 6, 9])\n",
      "array([[2, 3],\n",
      "       [5, 6],\n",
      "       [8, 9]])\n",
      "array([[2, 3]])\n",
      "array([2, 3])\n"
     ]
    }
   ],
   "source": [
    "#indexing in numpy\n",
    "arr = np.array([[1, 2, 3],\n",
    "                [4, 5, 6],\n",
    "                [7, 8, 9]])\n",
    "print(repr(arr[:]))\n",
    "print(repr(arr[1:]))\n",
    "print(repr(arr[:, -1]))\n",
    "print(repr(arr[:, 1:]))\n",
    "print(repr(arr[0:1, 1:]))\n",
    "print(repr(arr[0, 1:]))"
   ]
  },
  {
   "cell_type": "markdown",
   "id": "957af0ba",
   "metadata": {},
   "source": [
    "#### Argmin and argmax"
   ]
  },
  {
   "cell_type": "code",
   "execution_count": null,
   "id": "d239f36e",
   "metadata": {},
   "outputs": [],
   "source": [
    "#argmax and argmin -> return index number in flattened version of arr\n",
    "np.argmin(arr)\n",
    "np.argmax(arr)\n",
    "np.argmin(arr, axis=0) #row axis\n",
    "np.argmin(arr, axis=1) #col axis\n",
    "np.argmin(arr, axis=-1) #last axis. In this case it is the column axis. In 3D it is Z axis"
   ]
  },
  {
   "cell_type": "markdown",
   "id": "c66cd64a",
   "metadata": {},
   "source": [
    "###### Filtering"
   ]
  },
  {
   "cell_type": "code",
   "execution_count": 2,
   "id": "b5819d48",
   "metadata": {},
   "outputs": [
    {
     "data": {
      "application/javascript": [
       "\n",
       "        if (window._pyforest_update_imports_cell) { window._pyforest_update_imports_cell('import numpy as np'); }\n",
       "    "
      ],
      "text/plain": [
       "<IPython.core.display.Javascript object>"
      ]
     },
     "metadata": {},
     "output_type": "display_data"
    },
    {
     "name": "stdout",
     "output_type": "stream",
     "text": [
      "array([[False, False,  True],\n",
      "       [False,  True, False],\n",
      "       [False, False, False]])\n",
      "array([[False,  True,  True],\n",
      "       [ True,  True, False],\n",
      "       [False, False,  True]])\n",
      "array([[ True,  True,  True],\n",
      "       [False,  True,  True],\n",
      "       [ True,  True, False]])\n",
      "array([[False, False, False],\n",
      "       [ True, False, False],\n",
      "       [False, False,  True]])\n"
     ]
    }
   ],
   "source": [
    "#Filtering in numpy\n",
    "arr = np.array([[0, 2, 3],\n",
    "                [1, 3, -6],\n",
    "                [-3, -2, 1]])\n",
    "print(repr(arr == 3))\n",
    "print(repr(arr > 0))\n",
    "print(repr(arr != 1))\n",
    "print(repr(~(arr != 1)))"
   ]
  },
  {
   "cell_type": "code",
   "execution_count": 3,
   "id": "004f871a",
   "metadata": {},
   "outputs": [
    {
     "data": {
      "application/javascript": [
       "\n",
       "        if (window._pyforest_update_imports_cell) { window._pyforest_update_imports_cell('import numpy as np'); }\n",
       "    "
      ],
      "text/plain": [
       "<IPython.core.display.Javascript object>"
      ]
     },
     "metadata": {},
     "output_type": "display_data"
    },
    {
     "data": {
      "application/javascript": [
       "\n",
       "        if (window._pyforest_update_imports_cell) { window._pyforest_update_imports_cell('import numpy as np'); }\n",
       "    "
      ],
      "text/plain": [
       "<IPython.core.display.Javascript object>"
      ]
     },
     "metadata": {},
     "output_type": "display_data"
    },
    {
     "data": {
      "application/javascript": [
       "\n",
       "        if (window._pyforest_update_imports_cell) { window._pyforest_update_imports_cell('import numpy as np'); }\n",
       "    "
      ],
      "text/plain": [
       "<IPython.core.display.Javascript object>"
      ]
     },
     "metadata": {},
     "output_type": "display_data"
    },
    {
     "data": {
      "application/javascript": [
       "\n",
       "        if (window._pyforest_update_imports_cell) { window._pyforest_update_imports_cell('import numpy as np'); }\n",
       "    "
      ],
      "text/plain": [
       "<IPython.core.display.Javascript object>"
      ]
     },
     "metadata": {},
     "output_type": "display_data"
    },
    {
     "data": {
      "application/javascript": [
       "\n",
       "        if (window._pyforest_update_imports_cell) { window._pyforest_update_imports_cell('import numpy as np'); }\n",
       "    "
      ],
      "text/plain": [
       "<IPython.core.display.Javascript object>"
      ]
     },
     "metadata": {},
     "output_type": "display_data"
    },
    {
     "name": "stdout",
     "output_type": "stream",
     "text": [
      "array([[False, False,  True],\n",
      "       [False,  True, False],\n",
      "       [ True, False, False]])\n"
     ]
    }
   ],
   "source": [
    "#to figure out nan values\n",
    "arr = np.array([[0, 2, np.nan],\n",
    "                [1, np.nan, -6],\n",
    "                [np.nan, -2, 1]])\n",
    "print(repr(np.isnan(arr)))"
   ]
  },
  {
   "cell_type": "code",
   "execution_count": 8,
   "id": "9541d655",
   "metadata": {},
   "outputs": [
    {
     "data": {
      "application/javascript": [
       "\n",
       "        if (window._pyforest_update_imports_cell) { window._pyforest_update_imports_cell('import numpy as np'); }\n",
       "    "
      ],
      "text/plain": [
       "<IPython.core.display.Javascript object>"
      ]
     },
     "metadata": {},
     "output_type": "display_data"
    },
    {
     "data": {
      "application/javascript": [
       "\n",
       "        if (window._pyforest_update_imports_cell) { window._pyforest_update_imports_cell('import numpy as np'); }\n",
       "    "
      ],
      "text/plain": [
       "<IPython.core.display.Javascript object>"
      ]
     },
     "metadata": {},
     "output_type": "display_data"
    },
    {
     "data": {
      "application/javascript": [
       "\n",
       "        if (window._pyforest_update_imports_cell) { window._pyforest_update_imports_cell('import numpy as np'); }\n",
       "    "
      ],
      "text/plain": [
       "<IPython.core.display.Javascript object>"
      ]
     },
     "metadata": {},
     "output_type": "display_data"
    },
    {
     "data": {
      "application/javascript": [
       "\n",
       "        if (window._pyforest_update_imports_cell) { window._pyforest_update_imports_cell('import numpy as np'); }\n",
       "    "
      ],
      "text/plain": [
       "<IPython.core.display.Javascript object>"
      ]
     },
     "metadata": {},
     "output_type": "display_data"
    },
    {
     "data": {
      "application/javascript": [
       "\n",
       "        if (window._pyforest_update_imports_cell) { window._pyforest_update_imports_cell('import numpy as np'); }\n",
       "    "
      ],
      "text/plain": [
       "<IPython.core.display.Javascript object>"
      ]
     },
     "metadata": {},
     "output_type": "display_data"
    },
    {
     "name": "stdout",
     "output_type": "stream",
     "text": [
      "[[-1  1]\n",
      " [-1  1]]\n"
     ]
    },
    {
     "data": {
      "application/javascript": [
       "\n",
       "        if (window._pyforest_update_imports_cell) { window._pyforest_update_imports_cell('import numpy as np'); }\n",
       "    "
      ],
      "text/plain": [
       "<IPython.core.display.Javascript object>"
      ]
     },
     "metadata": {},
     "output_type": "display_data"
    },
    {
     "name": "stdout",
     "output_type": "stream",
     "text": [
      "[['-ve' '+ve']\n",
      " ['-ve' '+ve']]\n"
     ]
    }
   ],
   "source": [
    "#np.where -> use to returns indexes of elements that match the filter\n",
    "x_ind, y_ind = np.where(arr != 0)\n",
    "\n",
    "#use np.where for true replacement and false replacement values\n",
    "arr = np.array([[-2, 5], \n",
    "                [-1, 8]])\n",
    "positives = np.ones_like(arr)\n",
    "negatives = -np.ones_like(arr)\n",
    "print(np.where(arr>=0, positives, negatives))\n",
    "print(np.where(arr>=0, '+ve', '-ve')) #also called broadcasting "
   ]
  },
  {
   "cell_type": "code",
   "execution_count": null,
   "id": "6c69859a",
   "metadata": {},
   "outputs": [],
   "source": [
    "#axis-wise filtering\n",
    "np.any(arr > 0) # ||\n",
    "np.all(arr > 0) # &&\n",
    "np.any(arr > 0, axis=0) #if any row\n",
    "np.any(arr > 0, axis=1) #if any column"
   ]
  },
  {
   "cell_type": "markdown",
   "id": "c87855fd",
   "metadata": {},
   "source": [
    "##### Statistics and aggregation"
   ]
  },
  {
   "cell_type": "code",
   "execution_count": null,
   "id": "9f838a3a",
   "metadata": {},
   "outputs": [],
   "source": [
    "#statistics in Numpy\n",
    "\n",
    "#min and max\n",
    "arr.min()\n",
    "arr.max()\n",
    "arr.min(axis=0)\n",
    "arr.max(axis=1)\n",
    "\n",
    "#statistical metrics\n",
    "#mean\n",
    "np.mean(arr)\n",
    "mean_x = np.mean(x)\n",
    "mean_x_nan = np.nanmean(x_nan) #in case the data contains Nan values\n",
    "\n",
    "#median\n",
    "np.median(arr)\n",
    "np.nanmedian(arr)\n",
    "\n",
    "#variance\n",
    "np.var(arr)\n",
    "mean_x_nan = np.nanvar(x_nan, ddof = 1) #in case the data contains Nan values\n",
    "\n",
    "#std deviation\n",
    "variance_x = np.std(x)\n",
    "mean_x_nan = np.nanstd(x_nan, ddof = 1) #ddof - degree of freedem\n",
    "\n",
    "#covariance\n",
    "cov_xy = np.cov(x,y) #this will return the covariance matrix of x,y containing x_variance, y_variance on diagonal elements and covariance of x,y\n",
    "\n",
    "#correlation\n",
    "corr = np.corrcoef(x,y)\n",
    "\n",
    "\n",
    "\n"
   ]
  },
  {
   "cell_type": "code",
   "execution_count": null,
   "id": "5c37dbe7",
   "metadata": {},
   "outputs": [],
   "source": [
    "#distributions\n",
    "#binomial\n",
    "X = np.random.binomial(n,p,N)\n",
    "\n",
    "#poisson\n",
    "X = np.random.poisson(lambda_,N)\n",
    "\n",
    "#normal\n",
    "X = np.random.normal(mu,sigma,N)\n",
    "\n",
    "\n",
    "\n"
   ]
  },
  {
   "cell_type": "markdown",
   "id": "d2440b45",
   "metadata": {},
   "source": [
    "##### File IO"
   ]
  },
  {
   "cell_type": "code",
   "execution_count": null,
   "id": "407ca13e",
   "metadata": {},
   "outputs": [],
   "source": [
    "#saving data\n",
    "#gets saved in .npy file\n",
    "np.save('file/path/name.npy', arr)\n",
    "\n",
    "#loading data\n",
    "load_arr = np.load('arr.npy')"
   ]
  }
 ],
 "metadata": {
  "kernelspec": {
   "display_name": "projectEnv",
   "language": "python",
   "name": "projectenv"
  },
  "language_info": {
   "codemirror_mode": {
    "name": "ipython",
    "version": 3
   },
   "file_extension": ".py",
   "mimetype": "text/x-python",
   "name": "python",
   "nbconvert_exporter": "python",
   "pygments_lexer": "ipython3",
   "version": "3.9.7"
  }
 },
 "nbformat": 4,
 "nbformat_minor": 5
}
