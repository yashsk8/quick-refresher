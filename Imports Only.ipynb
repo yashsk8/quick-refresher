{
 "cells": [
  {
   "cell_type": "markdown",
   "id": "e5f863f7",
   "metadata": {},
   "source": [
    "### Imports only"
   ]
  },
  {
   "cell_type": "markdown",
   "id": "63abd98e",
   "metadata": {},
   "source": [
    "##### Basic & tools"
   ]
  },
  {
   "cell_type": "code",
   "execution_count": null,
   "id": "66bb4866",
   "metadata": {},
   "outputs": [],
   "source": [
    "#Ignore Warnings\n",
    "import warnings\n",
    "warnings.filterwarnings(\"ignore\")"
   ]
  },
  {
   "cell_type": "code",
   "execution_count": 1,
   "id": "ae41c1df",
   "metadata": {},
   "outputs": [],
   "source": [
    "import math\n",
    "import gzip\n",
    "import random\n",
    "import string\n",
    "import time\n",
    "import dateutil\n",
    "from tqdm.notebook import tqdm #to visualize loops as progress bars"
   ]
  },
  {
   "cell_type": "markdown",
   "id": "ae6ef9dc",
   "metadata": {},
   "source": [
    "##### Data reading and manipulation"
   ]
  },
  {
   "cell_type": "code",
   "execution_count": 4,
   "id": "b6ecb31a",
   "metadata": {},
   "outputs": [],
   "source": [
    "import gzip\n",
    "import numpy as np\n",
    "import pandas as pd\n",
    "import scipy as sp\n",
    "from collections import defaultdict"
   ]
  },
  {
   "cell_type": "markdown",
   "id": "673b7b16",
   "metadata": {},
   "source": [
    "##### Data visualization"
   ]
  },
  {
   "cell_type": "code",
   "execution_count": 5,
   "id": "f9fd3aa4",
   "metadata": {},
   "outputs": [],
   "source": [
    "import matplotlib.pyplot as plt\n",
    "import seaborn as sns"
   ]
  },
  {
   "cell_type": "markdown",
   "id": "55fcaff7",
   "metadata": {},
   "source": [
    "##### Scikit-learn"
   ]
  },
  {
   "cell_type": "code",
   "execution_count": 6,
   "id": "0f2acd7a",
   "metadata": {},
   "outputs": [],
   "source": [
    "import sklearn\n",
    "\n",
    "#models\n",
    "from sklearn.linear_model import LinearRegression\n",
    "from sklearn.linear_model import LogisticRegression\n",
    "from sklearn.linear_model import RidgeClassifier # Linear Regression with Regularization support\n",
    "\n",
    "from sklearn.naive_bayes import MultinomialNB\n",
    "from sklearn.multiclass import OneVsRestClassifier\n",
    "from sklearn.neighbors import KNeighborsClassifier\n",
    "\n",
    "#model-selection\n",
    "from sklearn.model_selection import train_test_split\n",
    "\n",
    "#metrics\n",
    "from sklearn.metrics import accuracy_score\n",
    "from sklearn.metrics import balanced_accuracy_score #good for skewed data\n",
    "from sklearn.metrics import mean_squared_error\n",
    "from sklearn.metrics import mean_absolute_error\n",
    "from sklearn.metrics import classification_report\n",
    "\n",
    "#preprocessing\n",
    "from sklearn.preprocessing import LabelEncoder #useful for single column ordinal encoding\n",
    "from sklearn.preprocessing import OrdinalEncoder #support to encode multiple columns \n",
    "from sklearn.preprocessing import OneHotEncoder #one hot encoding\n",
    "from sklearn.preprocessing import StandardScaler #standardize features by removing the mean and scaling to unit variance.\n",
    "\n",
    "#text feature extraction \n",
    "from sklearn.feature_extraction.text import CountVectorizer #Vectorizes words \n",
    "from sklearn.feature_extraction.text import TfidfTransformer #transforms text into tf-idf using CountVectorizer\n"
   ]
  },
  {
   "cell_type": "markdown",
   "id": "0269635c",
   "metadata": {},
   "source": [
    "##### Tensorflow"
   ]
  },
  {
   "cell_type": "code",
   "execution_count": 8,
   "id": "eb216987",
   "metadata": {},
   "outputs": [],
   "source": [
    "import tensorflow as tf"
   ]
  },
  {
   "cell_type": "markdown",
   "id": "50f9f78c",
   "metadata": {},
   "source": [
    "###### NLTK (Natural Language Toolkit)"
   ]
  },
  {
   "cell_type": "code",
   "execution_count": 2,
   "id": "e611e7ec",
   "metadata": {},
   "outputs": [],
   "source": [
    "import nltk\n",
    "\n",
    "#downlaod stepwords and wordnet for project\n",
    "nltk.download('stopwords')\n",
    "nltk.download('wordnet')\n",
    "\n",
    "#stopwords\n",
    "from nltk.corpus import stopwords\n",
    "stop=stopwords.words('english')\n",
    "\n",
    "#stemmer\n",
    "from nltk.stem.porter import PorterStemmer\n",
    "\n",
    "#lemmatizer\n",
    "from nltk.stem.wordnet import WordNetLemmatizer"
   ]
  },
  {
   "cell_type": "code",
   "execution_count": null,
   "id": "befba32f",
   "metadata": {},
   "outputs": [],
   "source": []
  }
 ],
 "metadata": {
  "kernelspec": {
   "display_name": "projectEnv",
   "language": "python",
   "name": "projectenv"
  },
  "language_info": {
   "codemirror_mode": {
    "name": "ipython",
    "version": 3
   },
   "file_extension": ".py",
   "mimetype": "text/x-python",
   "name": "python",
   "nbconvert_exporter": "python",
   "pygments_lexer": "ipython3",
   "version": "3.9.7"
  }
 },
 "nbformat": 4,
 "nbformat_minor": 5
}
