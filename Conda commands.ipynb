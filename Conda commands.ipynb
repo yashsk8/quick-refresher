{
 "cells": [
  {
   "cell_type": "markdown",
   "id": "35b57d93",
   "metadata": {},
   "source": [
    "### Env Management\n",
    "###### list all envs\n",
    "conda env list\\\n",
    "conda info --envs\n",
    "\n",
    "###### create project env\n",
    "conda create --name projectEnv\n",
    "\n",
    "###### activate project env\n",
    "conda activate projectEnv\n",
    "\n",
    "###### deactivate project env\n",
    "conda deactivate projectEnv\n",
    "\n",
    "###### delete project env\n",
    "conda remove -n projectEnv\n",
    "\n",
    "### Dependency Management\n",
    "\n",
    "###### see all installed libraries in a project env\n",
    "conda list -n projectEnv\n",
    "\n",
    "###### check if library is installed\n",
    "conda search scipy\n",
    "\n",
    "###### install jupyter kernel\n",
    "conda install jupyter\\\n",
    "conda install -c anaconda ipykernel\n",
    "\n",
    "###### install random libraries\n",
    "conda install -c conda-forge -n projectEnv mouse pandas numpy tqdm nltk scikit-learn tensorflow pytorch seaborn\n",
    "\n",
    "###### remove randome libraries\n",
    "conda env remove -n tf\n",
    "\n",
    "###### updating libraries\n",
    "####### update one library\\\n",
    "conda update scipy  \\\n",
    "####### update python\\\n",
    "conda update python\\\n",
    "####### update coda itself\\\n",
    "conda update conda"
   ]
  }
 ],
 "metadata": {
  "kernelspec": {
   "display_name": "projectEnv",
   "language": "python",
   "name": "projectenv"
  },
  "language_info": {
   "codemirror_mode": {
    "name": "ipython",
    "version": 3
   },
   "file_extension": ".py",
   "mimetype": "text/x-python",
   "name": "python",
   "nbconvert_exporter": "python",
   "pygments_lexer": "ipython3",
   "version": "3.9.7"
  }
 },
 "nbformat": 4,
 "nbformat_minor": 5
}
