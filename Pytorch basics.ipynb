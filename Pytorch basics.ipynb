{
 "cells": [
  {
   "cell_type": "markdown",
   "id": "b9025d74",
   "metadata": {},
   "source": [
    "### PyTorch\n",
    "\n",
    "Pytorch is an open-source Python deep learning framework that enables us to build and train neural networks. Pytorch is a library that helps you perform mathematical operations between matrices in their basic form. \\\n",
    "\\\n",
    "The fundamental building block of Pytorch is the tensor. A tensor is an N-dimensional array. "
   ]
  },
  {
   "cell_type": "code",
   "execution_count": 1,
   "id": "0d932ad2",
   "metadata": {},
   "outputs": [],
   "source": [
    "import torch"
   ]
  },
  {
   "cell_type": "code",
   "execution_count": null,
   "id": "af5641aa",
   "metadata": {},
   "outputs": [],
   "source": [
    "#pytorch tensors\n",
    "#rank 0 tensor - scaler\n",
    "#rank 1 tensor - vector\n",
    "#rank 2 tensor - matrix\n",
    "#default dtype = int64\n",
    "\n",
    "a = torch.tensor([1 ,2, 3])\n",
    "b = torch.tensor([[1], [2], [3]])\n",
    "a = torch.tensor([1, 2, 3], dtype=torch.float)\n",
    "\n",
    "#directly use APIs to create type of tensor\n",
    "torch.FloatTensor([1, 2, 3])\n",
    "torch.IntTensor([1, 2, 3])\n",
    "\n",
    "#tensor from numpy array\n",
    "na = np.array([1, 2, 3])\n",
    "a = torch.tensor(na)\n",
    "b = torch.from_numpy(na)\n",
    "\n",
    "#creating special tensors\n",
    "eys = torch.eye(3) #3*3 identity tensor\n",
    "ones = torch.ones((2, 2)) \n",
    "zeros = torch.zeros((3, 4))\n",
    "\n",
    "#creating random tensors\n",
    "# Create a tensor with 1*10 shape with random value between 0 and 1\n",
    "r0 = torch.rand(10)\n",
    "# Create a tensor with 10*1 shape with random value between 0 and 1\n",
    "r1 = torch.rand((10, 1))\n",
    "# Create a tensor with 2*2 shape with random value from a normal distribution.\n",
    "r3 = torch.randn((2,2))\n",
    "# Create an integer type tensor with 3*3 shape with random value between 0 and 10.\n",
    "r4 = torch.randint(high=10, size=(3, 3))\n",
    "# Create an integer type tensor with 3*3 shape with random value between 5 and 10.\n",
    "r5 = torch.randint(low=5, high=10, size=(3, 3))\n",
    "\n",
    "#creating range vector\n",
    "a = torch.arange(1, 10)\n",
    "\n",
    "#reshaping tensor\n",
    "b = torch.reshape(a, (2, 4))\n",
    "c = torch.reshape(a, (2, -1)) #-1 => infer last dimension\n",
    "\n",
    "#squeezing - remove dimensions of tensor which are 1., eg: 2x3x1 -> 2x3. \n",
    "a = torch.squeeze(a, dim=2) #squeeze only possible for 1 length dimension\n",
    "\n",
    "#unsqueeze -> adds a new dimension of length 1\n",
    "a = torch.unsqueeze(a, dim=1)\n",
    "\n",
    "#transposing a tensor\n",
    "b = torch.transpose(b, 1, 2) # a with 1st and 2nd dim to be transposed\n",
    "\n",
    "#cast tensor from one dtype to other\n",
    "c = b.to(dtype=torch.int64)\n",
    "c = a.to(device) #cast to a GPU device 'cuda:0', 'cuda:1', or 'cuda:2'\n",
    "\n",
    "#concatenate tensors\n",
    "result = torch.cat((a, a), dim=0)\n",
    "result = torch.stack((a, b), dim=1) #concatenate along a new dimension"
   ]
  },
  {
   "cell_type": "code",
   "execution_count": null,
   "id": "fc408b7d",
   "metadata": {},
   "outputs": [],
   "source": [
    "#tensor info\n",
    "#type\n",
    "a.dtype\n",
    "#shape\n",
    "a.shape\n",
    "a.size()\n",
    "#no. of dimensions\n",
    "a.ndim\n",
    "a.dim()\n",
    "#no. of elements\n",
    "a.numel()\n",
    "#check tensor device \n",
    "a.device"
   ]
  },
  {
   "cell_type": "code",
   "execution_count": null,
   "id": "49aca677",
   "metadata": {},
   "outputs": [],
   "source": [
    "#tensor indexing\n",
    "#Select only one element\n",
    "print(a[1,1])\n",
    "\n",
    "#Select the second column\n",
    "print(a[:, 1])\n",
    "\n",
    "#Select the second row.\n",
    "print(a[1, :])\n",
    "\n",
    "#using index select\n",
    "result = torch.index_select(a, dim=0, index=indices)\n",
    "\n",
    "#use mask to select\n",
    "result = torch.masked_select(a, mask) #mask shape = tensor shape or mask should be broadcastable"
   ]
  },
  {
   "cell_type": "code",
   "execution_count": null,
   "id": "506f56f1",
   "metadata": {},
   "outputs": [],
   "source": [
    "#tensor maths\n",
    "\n",
    "#add\n",
    "b = a + 3\n",
    "b = a.add(3)\n",
    "a.add_(3) #change tensor in place\n",
    "\n",
    "\n",
    "a = torch.tensor([1, 2, 3])\n",
    "b = torch.tensor([2, 4, 6])\n",
    "c = a * b\n",
    "c = a.mul(b)\n",
    "torch.multiply(Y[0:3,0:3], Y[0:3,0:3]\n",
    "               \n",
    "#sigmoid\n",
    "Z = 1/(1+torch.exp(-X))\n",
    "\n",
    "#matrix vector multiplication\n",
    "result = torch.mv(mat, vec)\n",
    "result = mat.mv(vec)\n",
    "\n",
    "#matrix matrix multiplication (same dim)\n",
    "result = torch.mm(mat1, mat2)\n",
    "result = mat1.mm(mat2)\n",
    "\n",
    "#matrix matrix multiplication (any compatible dim)\n",
    "result = mat1.matmul(mat2)\n",
    "\n",
    "#dot between two vectors\n",
    "result = torch.dot(vec1, vec2)\n",
    "result = vec1.dot(vec2)"
   ]
  },
  {
   "cell_type": "code",
   "execution_count": null,
   "id": "e4f8f586",
   "metadata": {},
   "outputs": [],
   "source": [
    "#metrics and reduction\n",
    "b = torch.mean(a, dim=1)\n",
    "c = torch.sum(a, dim=0)\n",
    "d = torch.median(a, dim=0)\n",
    "e = torch.std(a, dim=0)\n",
    "f = torch.prod(a, dim=0)\n",
    "g = torch.cumsum(a, dim=0)\n",
    "\n",
    "#comparison functions -> lt, gt, le, ge, eq, ne (returns boolean array)\n",
    "b = torch.lt(a, 0.5)\n",
    "d = torch.gt(a, c)"
   ]
  },
  {
   "cell_type": "code",
   "execution_count": null,
   "id": "5690941b",
   "metadata": {},
   "outputs": [],
   "source": [
    "#saving and loading tensors\n",
    "torch.save(a, \"./output/tensor.pt\")\n",
    "a = torch.load(\"./output/tensor.pt\")\n",
    "\n",
    "#save multiple tensors using dictionary\n",
    "m = {}\n",
    "m[\"t1\"] = torch.tensor([1, 2, 3])\n",
    "m[\"t2\"] = torch.tensor([2, 4, 6])\n",
    "torch.save(m, \"./output/tensor.pt\")"
   ]
  },
  {
   "cell_type": "code",
   "execution_count": 21,
   "id": "01e17e1d",
   "metadata": {},
   "outputs": [],
   "source": [
    "#activation functions in pytorch\n",
    "\n",
    "#sigmoid\n",
    "sig = nn.Sigmoid()\n",
    "#tanh - hyperbolic tangent\n",
    "tanh = nn.Tanh()\n",
    "#ReLU - Rectified linear unit\n",
    "relu = nn.ReLU()\n",
    "#Leaky ReLU\n",
    "l_relu = nn.LeakyReLU(0.01)\n",
    "#paramteric ReLU\n",
    "p_relu = nn.PReLU()\n",
    "#softmax - usually applied to the last dimension of a multidimensional input\n",
    "softmax = nn.Softmax(dim=-1)"
   ]
  },
  {
   "cell_type": "markdown",
   "id": "1e2a08ab",
   "metadata": {},
   "source": [
    "#### Linear Classifier: \n",
    "$y=f(x,W)=W\\cdot x+b$ | $y\\in R^n$, $x\\in R^n$, $W\\in R^{n\\times n}$"
   ]
  },
  {
   "cell_type": "code",
   "execution_count": 9,
   "id": "25034844",
   "metadata": {},
   "outputs": [],
   "source": [
    "#linear classifier\n",
    "import torch.nn as nn\n",
    "\n",
    "model = nn.Linear(10, 3) #10->inputs and 3->outputs #Also initializes W matrix and b matrix"
   ]
  },
  {
   "cell_type": "code",
   "execution_count": 10,
   "id": "801ceee0",
   "metadata": {},
   "outputs": [],
   "source": [
    "#loss function\n",
    "loss = nn.MSELoss()"
   ]
  },
  {
   "cell_type": "code",
   "execution_count": 13,
   "id": "b9c810a7",
   "metadata": {},
   "outputs": [
    {
     "name": "stdout",
     "output_type": "stream",
     "text": [
      "Input vector: tensor([ 0.8322,  0.5617,  1.7766,  0.2185,  0.1236, -0.1284,  1.5655,  1.1404,\n",
      "         0.6793, -1.1006])\n",
      "Target: tensor([0, 0, 1])\n",
      "Prections: tensor([-0.7968,  0.1807, -1.4779], grad_fn=<AddBackward0>)\n",
      "Loss: MSELoss()\n"
     ]
    }
   ],
   "source": [
    "input_vector = torch.randn(10)\n",
    "target = torch.tensor([0,0,1])\n",
    "pred = model(input_vector)\n",
    "output = loss(pred, target)\n",
    "print(\"Input vector:\", input_vector)\n",
    "print(\"Target:\", target)\n",
    "print(\"Prections:\", pred)\n",
    "print(\"Loss:\", loss)"
   ]
  },
  {
   "cell_type": "markdown",
   "id": "a0a3b034",
   "metadata": {},
   "source": [
    "#### Single Neuron"
   ]
  },
  {
   "cell_type": "code",
   "execution_count": 15,
   "id": "a4297fd0",
   "metadata": {},
   "outputs": [],
   "source": [
    "neuron = nn.Linear(3,1,bias=False) #3->inputs  and 1->output and bias term is False"
   ]
  },
  {
   "cell_type": "markdown",
   "id": "33e8b040",
   "metadata": {},
   "source": [
    "#### Simple Neural Network in Pytorch"
   ]
  },
  {
   "cell_type": "markdown",
   "id": "eefdad45",
   "metadata": {},
   "source": [
    "Here the activation function $\\sigma$ is ReLU"
   ]
  },
  {
   "cell_type": "code",
   "execution_count": 17,
   "id": "1860da3c",
   "metadata": {},
   "outputs": [
    {
     "name": "stdout",
     "output_type": "stream",
     "text": [
      "Sequential(\n",
      "  (0): Linear(in_features=3, out_features=20, bias=True)\n",
      "  (1): ReLU()\n",
      "  (2): Linear(in_features=20, out_features=2, bias=True)\n",
      ")\n"
     ]
    }
   ],
   "source": [
    "model = nn.Sequential(\n",
    "    nn.Linear(3,20), #3->inputs to 20->neurons in the second layer\n",
    "    nn.ReLU(),\n",
    "    nn.Linear(20,2) #20->neurons in the second layer to 2->outputs\n",
    ")\n",
    "print(model)"
   ]
  },
  {
   "cell_type": "markdown",
   "id": "84f7b2c8",
   "metadata": {},
   "source": [
    "#### CNN in Pytorch"
   ]
  },
  {
   "cell_type": "code",
   "execution_count": null,
   "id": "93f80a52",
   "metadata": {},
   "outputs": [],
   "source": [
    "#single linear layer wth stride and padding hyperparameters\n",
    "conv_layer = nn.Conv2d(in_channels=3, out_channels=5, kernel_size=5, stride=2, padding=1)\n",
    "\n",
    "#max-pooling layer\n",
    "pool_layer = nn.MaxPool2d(kernel_size=2, stride=2)\n",
    "\n",
    "#dropout layer\n",
    "drop_layer = nn.Dropout(0.5)"
   ]
  },
  {
   "cell_type": "code",
   "execution_count": null,
   "id": "bc86f2e1",
   "metadata": {},
   "outputs": [],
   "source": [
    "#1. CNN in pytorch\n",
    "class CNN(nn.Module):\n",
    "    def __init__(self):\n",
    "        super(CNN, self).__init__()\n",
    "        self.conv1 = nn.Conv2d(3, 6, 5)\n",
    "        self.pool = nn.MaxPool2d(2, 2)\n",
    "        self.conv2 = nn.Conv2d(6, 16, 5)\n",
    "        self.fc1 = nn.Linear(16 * 5 * 5, 120)\n",
    "        self.fc2 = nn.Linear(120, 84)\n",
    "        self.fc3 = nn.Linear(84, 10)\n",
    "\n",
    "    def forward(self, x):\n",
    "        x = self.pool(F.relu(self.conv1(x)))\n",
    "        x = self.pool(F.relu(self.conv2(x)))\n",
    "        x = x.view(-1, 16 * 5 * 5)\n",
    "        x = F.relu(self.fc1(x))\n",
    "        x = F.relu(self.fc2(x))\n",
    "        x = self.fc3(x)\n",
    "        return x"
   ]
  }
 ],
 "metadata": {
  "kernelspec": {
   "display_name": "projectEnv",
   "language": "python",
   "name": "projectenv"
  },
  "language_info": {
   "codemirror_mode": {
    "name": "ipython",
    "version": 3
   },
   "file_extension": ".py",
   "mimetype": "text/x-python",
   "name": "python",
   "nbconvert_exporter": "python",
   "pygments_lexer": "ipython3",
   "version": "3.9.7"
  }
 },
 "nbformat": 4,
 "nbformat_minor": 5
}
