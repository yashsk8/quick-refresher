{
 "cells": [
  {
   "cell_type": "markdown",
   "id": "b9025d74",
   "metadata": {},
   "source": [
    "### PyTorch\n",
    "\n",
    "Pytorch is an open-source Python deep learning framework that enables us to build and train neural networks. Pytorch is a library that helps you perform mathematical operations between matrices in their basic form. \\\n",
    "\\\n",
    "The fundamental building block of Pytorch is the tensor. A tensor is an N-dimensional array. "
   ]
  },
  {
   "cell_type": "code",
   "execution_count": 1,
   "id": "0d932ad2",
   "metadata": {},
   "outputs": [],
   "source": [
    "import torch"
   ]
  },
  {
   "cell_type": "markdown",
   "id": "63b74486",
   "metadata": {},
   "source": [
    "#### PyTorch basics"
   ]
  },
  {
   "cell_type": "code",
   "execution_count": 61,
   "id": "b3fe0f0a",
   "metadata": {},
   "outputs": [
    {
     "data": {
      "text/plain": [
       "tensor(42)"
      ]
     },
     "execution_count": 61,
     "metadata": {},
     "output_type": "execute_result"
    }
   ],
   "source": [
    "#tensors\n",
    "X = torch.tensor([1,2,3,4,5])\n",
    "Y = torch.tensor([[1,2,3,4,5],[1,2,3,4,5],[1,2,3,4,5],[1,2,3,4,5],[1,2,3,4,5]])\n",
    "torch.sum(torch.multiply(Y[0:3,0:3], Y[0:3,0:3]))"
   ]
  },
  {
   "cell_type": "code",
   "execution_count": 25,
   "id": "e367fec9",
   "metadata": {},
   "outputs": [
    {
     "data": {
      "text/plain": [
       "torch.Size([2, 3])"
      ]
     },
     "execution_count": 25,
     "metadata": {},
     "output_type": "execute_result"
    }
   ],
   "source": [
    "Z = torch.tensor([[1,2,3],[3,4,4]])\n",
    "Z.shape"
   ]
  },
  {
   "cell_type": "code",
   "execution_count": 20,
   "id": "189af039",
   "metadata": {},
   "outputs": [],
   "source": [
    "#sigmoid\n",
    "Z = 1/(1+torch.exp(-X))"
   ]
  },
  {
   "cell_type": "code",
   "execution_count": 21,
   "id": "01e17e1d",
   "metadata": {},
   "outputs": [],
   "source": [
    "#activation functions in pytorch\n",
    "\n",
    "#sigmoid\n",
    "sig = nn.Sigmoid()\n",
    "#tanh - hyperbolic tangent\n",
    "tanh = nn.Tanh()\n",
    "#ReLU - Rectified linear unit\n",
    "relu = nn.ReLU()\n",
    "#Leaky ReLU\n",
    "l_relu = nn.LeakyReLU(0.01)\n",
    "#paramteric ReLU\n",
    "p_relu = nn.PReLU()\n",
    "#softmax - usually applied to the last dimension of a multidimensional input\n",
    "softmax = nn.Softmax(dim=-1)"
   ]
  },
  {
   "cell_type": "markdown",
   "id": "1e2a08ab",
   "metadata": {},
   "source": [
    "#### Linear Classifier: \n",
    "$y=f(x,W)=W\\cdot x+b$ | $y\\in R^n$, $x\\in R^n$, $W\\in R^{n\\times n}$"
   ]
  },
  {
   "cell_type": "code",
   "execution_count": 9,
   "id": "25034844",
   "metadata": {},
   "outputs": [],
   "source": [
    "#linear classifier\n",
    "import torch.nn as nn\n",
    "\n",
    "model = nn.Linear(10, 3) #10->inputs and 3->outputs #Also initializes W matrix and b matrix"
   ]
  },
  {
   "cell_type": "code",
   "execution_count": 10,
   "id": "801ceee0",
   "metadata": {},
   "outputs": [],
   "source": [
    "#loss function\n",
    "loss = nn.MSELoss()"
   ]
  },
  {
   "cell_type": "code",
   "execution_count": 13,
   "id": "b9c810a7",
   "metadata": {},
   "outputs": [
    {
     "name": "stdout",
     "output_type": "stream",
     "text": [
      "Input vector: tensor([ 0.8322,  0.5617,  1.7766,  0.2185,  0.1236, -0.1284,  1.5655,  1.1404,\n",
      "         0.6793, -1.1006])\n",
      "Target: tensor([0, 0, 1])\n",
      "Prections: tensor([-0.7968,  0.1807, -1.4779], grad_fn=<AddBackward0>)\n",
      "Loss: MSELoss()\n"
     ]
    }
   ],
   "source": [
    "input_vector = torch.randn(10)\n",
    "target = torch.tensor([0,0,1])\n",
    "pred = model(input_vector)\n",
    "output = loss(pred, target)\n",
    "print(\"Input vector:\", input_vector)\n",
    "print(\"Target:\", target)\n",
    "print(\"Prections:\", pred)\n",
    "print(\"Loss:\", loss)"
   ]
  },
  {
   "cell_type": "markdown",
   "id": "a0a3b034",
   "metadata": {},
   "source": [
    "#### Single Neuron"
   ]
  },
  {
   "cell_type": "code",
   "execution_count": 15,
   "id": "a4297fd0",
   "metadata": {},
   "outputs": [],
   "source": [
    "neuron = nn.Linear(3,1,bias=False) #3->inputs  and 1->output and bias term is False"
   ]
  },
  {
   "cell_type": "markdown",
   "id": "33e8b040",
   "metadata": {},
   "source": [
    "#### Simple Neural Network in Pytorch"
   ]
  },
  {
   "cell_type": "markdown",
   "id": "eefdad45",
   "metadata": {},
   "source": [
    "Here the activation function $\\sigma$ is ReLU"
   ]
  },
  {
   "cell_type": "code",
   "execution_count": 17,
   "id": "1860da3c",
   "metadata": {},
   "outputs": [
    {
     "name": "stdout",
     "output_type": "stream",
     "text": [
      "Sequential(\n",
      "  (0): Linear(in_features=3, out_features=20, bias=True)\n",
      "  (1): ReLU()\n",
      "  (2): Linear(in_features=20, out_features=2, bias=True)\n",
      ")\n"
     ]
    }
   ],
   "source": [
    "model = nn.Sequential(\n",
    "    nn.Linear(3,20), #3->inputs to 20->neurons in the second layer\n",
    "    nn.ReLU(),\n",
    "    nn.Linear(20,2) #20->neurons in the second layer to 2->outputs\n",
    ")\n",
    "print(model)"
   ]
  },
  {
   "cell_type": "markdown",
   "id": "84f7b2c8",
   "metadata": {},
   "source": [
    "#### CNN in Pytorch"
   ]
  },
  {
   "cell_type": "code",
   "execution_count": null,
   "id": "93f80a52",
   "metadata": {},
   "outputs": [],
   "source": [
    "#single linear layer wth stride and padding hyperparameters\n",
    "conv_layer = nn.Conv2d(in_channels=3, out_channels=5, kernel_size=5, stride=2, padding=1)\n",
    "\n",
    "#max-pooling layer\n",
    "pool_layer = nn.MaxPool2d(kernel_size=2, stride=2)\n",
    "\n",
    "#dropout layer\n",
    "drop_layer = nn.Dropout(0.5)"
   ]
  },
  {
   "cell_type": "code",
   "execution_count": null,
   "id": "bc86f2e1",
   "metadata": {},
   "outputs": [],
   "source": [
    "#1. CNN in pytorch\n",
    "class CNN(nn.Module):\n",
    "    def __init__(self):\n",
    "        super(CNN, self).__init__()\n",
    "        self.conv1 = nn.Conv2d(3, 6, 5)\n",
    "        self.pool = nn.MaxPool2d(2, 2)\n",
    "        self.conv2 = nn.Conv2d(6, 16, 5)\n",
    "        self.fc1 = nn.Linear(16 * 5 * 5, 120)\n",
    "        self.fc2 = nn.Linear(120, 84)\n",
    "        self.fc3 = nn.Linear(84, 10)\n",
    "\n",
    "    def forward(self, x):\n",
    "        x = self.pool(F.relu(self.conv1(x)))\n",
    "        x = self.pool(F.relu(self.conv2(x)))\n",
    "        x = x.view(-1, 16 * 5 * 5)\n",
    "        x = F.relu(self.fc1(x))\n",
    "        x = F.relu(self.fc2(x))\n",
    "        x = self.fc3(x)\n",
    "        return x"
   ]
  },
  {
   "cell_type": "code",
   "execution_count": null,
   "id": "f3676970",
   "metadata": {},
   "outputs": [],
   "source": []
  }
 ],
 "metadata": {
  "kernelspec": {
   "display_name": "projectEnv",
   "language": "python",
   "name": "projectenv"
  },
  "language_info": {
   "codemirror_mode": {
    "name": "ipython",
    "version": 3
   },
   "file_extension": ".py",
   "mimetype": "text/x-python",
   "name": "python",
   "nbconvert_exporter": "python",
   "pygments_lexer": "ipython3",
   "version": "3.9.7"
  }
 },
 "nbformat": 4,
 "nbformat_minor": 5
}
