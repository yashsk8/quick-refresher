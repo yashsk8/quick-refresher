{
 "cells": [
  {
   "cell_type": "code",
   "execution_count": 2,
   "id": "733cdcb8",
   "metadata": {},
   "outputs": [],
   "source": [
    "import pandas as pd\n",
    "df=pd.DataFrame()"
   ]
  },
  {
   "cell_type": "code",
   "execution_count": 1,
   "id": "64ded1c7",
   "metadata": {},
   "outputs": [],
   "source": [
    "#list of all columns in table\n",
    "df.columns\n",
    "df.columns.values\n",
    "\n",
    "#list dtype of each column\n",
    "df.dtypes"
   ]
  },
  {
   "cell_type": "code",
   "execution_count": null,
   "id": "e8a09ebc",
   "metadata": {},
   "outputs": [],
   "source": [
    "#series - 1D list objects\n",
    "series = pd.Series(data=data, dtype='float64')\n",
    "series = pd.Series([1, 2, 3], index=['a', 'b', 'c']) #index can be abything, by default it is numbers from 0 to n-1\n",
    "series = pd.Series({'a':1, 'b':2, 'c':3}) #from dictionary\n",
    "\n",
    "#series can be constructed using scaler, df cannot"
   ]
  },
  {
   "cell_type": "code",
   "execution_count": null,
   "id": "17fbe349",
   "metadata": {},
   "outputs": [],
   "source": [
    "#dataframe - 2D list objects\n",
    "df = pd.DataFrame() #vanilla\n",
    "df = pd.DataFrame([5, 6]) # == pd.DataFrame([[5], [6]])\n",
    "df = pd.DataFrame([[5,6]]) \n",
    "df = pd.DataFrame([[5, 6], [1, 3]],\n",
    "                  index=['r1', 'r2'],\n",
    "                  columns=['c1', 'c2'])\n",
    "\n",
    "df = pd.DataFrame({'c1': [1, 2], 'c2': [3, 4]}, index=['r1', 'r2']) \n",
    "#df cannnot be created using scaler"
   ]
  },
  {
   "cell_type": "code",
   "execution_count": null,
   "id": "7a9bdb47",
   "metadata": {},
   "outputs": [],
   "source": [
    "#appending\n",
    "df = pd.DataFrame([[5, 6], [1.2, 3]])\n",
    "df_app = df.append(pd.Series([0, 0], name='r3'))#appending new row\n",
    "df_app = df.append(df2, ignore_index=True) #changes row label to integer indexes\n",
    "\n",
    "#concatenating\n",
    "concat = pd.concat([df1, df2], axis=1)\n",
    "concat = pd.concat([df2, df1, df3])\n",
    "\n",
    "#merge\n",
    "mlb_merged = pd.merge(mlb_df1, mlb_df2) #merges on same row labels and column values"
   ]
  },
  {
   "cell_type": "code",
   "execution_count": null,
   "id": "6435e80d",
   "metadata": {},
   "outputs": [],
   "source": [
    "#dropping data\n",
    "#generic - can't simultaneously drop both rows and columns. Need to use specific arguments to do so.\n",
    "df_drop = df.drop(labels='r1', axis=0)  #drop rows by label\n",
    "df_drop = df.drop(labels=['c1', 'c3'], axis=1) #drop columns by label\n",
    "\n",
    "#specific\n",
    "df_drop = df.drop(index='r1') #drop rows by index\n",
    "df_drop = df.drop(columns=['c1', 'c3']) #drop columns by col names directly\n",
    "\n",
    "#drop rows an columns\n",
    "df.drop(index='r2', columns='c2')"
   ]
  },
  {
   "cell_type": "code",
   "execution_count": null,
   "id": "77957e1f",
   "metadata": {},
   "outputs": [],
   "source": [
    "#indexing in pandas\n",
    "col1 = df['c1'] #does not return first row as column name\n",
    "col1_df = df[['c1']] #returns first row as column name\n",
    "col23 = df[['c2', 'c3']]\n",
    "\n",
    "#getting rows\n",
    "first_two_rows = df[0:2] #integer end index is exclusive\n",
    "rows_from_to = df['r2':'r3'] #label end index in inclusive\n",
    "\n",
    "#using loc an iloc\n",
    "#iloc to access rows based on their integer index\n",
    "df.iloc[1]\n",
    "df.iloc[[0, 2]]\n",
    "df.iloc[bool_list]\n",
    "\n",
    "#loc property provides the same row indexing functionality as iloc, but uses row labels rather than integer indexes\n",
    "df.loc['r2']\n",
    "f.loc[bool_list]\n",
    "df.loc[['r1', 'r3'], 'c2']\n",
    "df.loc[['r3','r4'], 'c2'] = 12 #use fd loc to set values\n",
    "\n",
    "#we can't access columns on their own with loc or iloc"
   ]
  },
  {
   "cell_type": "code",
   "execution_count": null,
   "id": "997b9098",
   "metadata": {},
   "outputs": [],
   "source": [
    "#File IO\n",
    "#reading\n",
    "df = pd.read_csv('data.csv', index_col=0)\n",
    "df = pd.read_excel('data.xlsx', sheet_name=1)\n",
    "df = pd.read_json('data.json')\n",
    "\n",
    "#writing\n",
    "# Index is kept when writing\n",
    "mlb_df.to_csv('data.csv')\n",
    "# Index is not kept when writing\n",
    "mlb_df.to_csv('data.csv', index=False)\n",
    "\n",
    "df.to_json('data.json')"
   ]
  },
  {
   "cell_type": "code",
   "execution_count": null,
   "id": "310c9a84",
   "metadata": {},
   "outputs": [],
   "source": [
    "#Grouping in pandas\n",
    "groups = df.groupby('yearID')\n",
    "groups = player_df.groupby(['yearID', 'teamID'])"
   ]
  },
  {
   "cell_type": "code",
   "execution_count": null,
   "id": "9ed32e01",
   "metadata": {},
   "outputs": [],
   "source": [
    "#filtering in pandas-- return t/f array\n",
    "cruzne02 = df['playerID'] == 'cruzne02'\n",
    "hr40 = df['HR'] > 40\n",
    "notbos = df['teamID'] != 'BOS'\n",
    "\n",
    "#using functions\n",
    "str_f1 = df['playerID'].str.startswith('c')\n",
    "str_f2 = df['teamID'].str.endswith('S')\n",
    "str_f3 = ~df['playerID'].str.contains('o')\n",
    "\n",
    "\n",
    "#using isin\n",
    "isin_f1 = df['playerID'].isin(['cruzne02','ortizda01'])\n",
    "isin_f2 = df['yearID'].isin([2015, 2017])\n",
    "\n",
    "#check na -- returnf t/f boolean array od positions passed in indexing\n",
    "isna = df['teamID'].isna()\n",
    "notna = df['teamID'].notna()\n",
    "\n",
    "\n",
    "#using filtering to directly get data\n",
    "hr40_df = df[df['HR'] > 40]\n",
    "not_hr30_df = df[~(df['HR'] > 30)]\n",
    "str_df = df[df['teamID'].str.startswith('B')]"
   ]
  },
  {
   "cell_type": "code",
   "execution_count": null,
   "id": "1f96f0ca",
   "metadata": {},
   "outputs": [],
   "source": [
    "#sorting in pandas\n",
    "sort1 = df.sort_values('yearID')\n",
    "sort2 = df.sort_values('playerID', ascending=False)\n",
    "sort1 = df.sort_values(['yearID', 'playerID'])\n",
    "sort2 = df.sort_values(['yearID', 'HR'],ascending=[True, False])"
   ]
  },
  {
   "cell_type": "code",
   "execution_count": null,
   "id": "eb0339de",
   "metadata": {},
   "outputs": [],
   "source": [
    "#metrics in pandas\n",
    "\n",
    "#continuous variables\n",
    "metrics1 = df.describe()\n",
    "hr_rbi = df[['HR','RBI']].describe()\n",
    "metrics1 = hr_rbi.describe(percentiles=[.5]) #also the median value\n",
    "metrics3 = hr_rbi.describe(percentiles=[.2,.8])\n",
    "\n",
    "#categorical columns\n",
    "df['playerID'].value_counts()\n",
    "df['playerID'].value_counts(normalize=True) #sum of all proportions =1\n",
    "df['playerID'].value_counts(ascending=True)\n",
    "df['playerID'].unique()"
   ]
  },
  {
   "cell_type": "code",
   "execution_count": null,
   "id": "ff67a1a6",
   "metadata": {},
   "outputs": [],
   "source": [
    "#plotting in pandas\n",
    "\n",
    "#line\n",
    "df.plot(kind='line',x='yearID',y='HR')\n",
    "plt.title('HR vs. Year')\n",
    "plt.xlabel('Year')\n",
    "plt.ylabel('HR Count')\n",
    "plt.show()\n",
    "plt.savefig('output/legend.png')  # save to PNG file\n",
    "\n",
    "#bar\n",
    "df.plot(kind='bar',y='HR')\n",
    "plt.ylabel('Frequency')\n",
    "plt.show()\n",
    "\n",
    "#box\n",
    "df.plot(kind='box',y='HR')\n",
    "plt.show()\n",
    "\n",
    "\n",
    "#plot multiple features\n",
    "ax = plt.gca()# gca stands for 'get current axis'\n",
    "\n",
    "df.plot(kind='line',x='yearID',y='H',ax=ax)\n",
    "df.plot(kind='line',x='yearID',y='BB', color='red', ax=ax)\n"
   ]
  },
  {
   "cell_type": "code",
   "execution_count": null,
   "id": "eab88e01",
   "metadata": {},
   "outputs": [],
   "source": [
    "#pandas math\n",
    "#multiply two series\n",
    "multiplied=s1*s2 #element wise multiplication\n",
    "\n",
    "#sum a series\n",
    "summ = year_group.sum()\n",
    "\n",
    "#divide two columns in df \n",
    "divided = df['col1']/df['col2']"
   ]
  },
  {
   "cell_type": "markdown",
   "id": "9636bc5c",
   "metadata": {},
   "source": [
    "#### Quick hacks"
   ]
  },
  {
   "cell_type": "code",
   "execution_count": null,
   "id": "107e7139",
   "metadata": {},
   "outputs": [],
   "source": [
    "# Get list of categorical variables\n",
    "s = (X_train.dtypes == 'object')\n",
    "object_cols = list(s[s].index)"
   ]
  }
 ],
 "metadata": {
  "kernelspec": {
   "display_name": "projectEnv",
   "language": "python",
   "name": "projectenv"
  },
  "language_info": {
   "codemirror_mode": {
    "name": "ipython",
    "version": 3
   },
   "file_extension": ".py",
   "mimetype": "text/x-python",
   "name": "python",
   "nbconvert_exporter": "python",
   "pygments_lexer": "ipython3",
   "version": "3.9.7"
  }
 },
 "nbformat": 4,
 "nbformat_minor": 5
}
