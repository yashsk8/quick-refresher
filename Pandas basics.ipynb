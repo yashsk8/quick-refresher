{
 "cells": [
  {
   "cell_type": "code",
   "execution_count": 2,
   "id": "733cdcb8",
   "metadata": {},
   "outputs": [],
   "source": [
    "import pandas as pd\n",
    "df=pd.DataFrame()"
   ]
  },
  {
   "cell_type": "markdown",
   "id": "ecf612af",
   "metadata": {},
   "source": [
    "##### Reading data from file"
   ]
  },
  {
   "cell_type": "code",
   "execution_count": null,
   "id": "81519ae2",
   "metadata": {},
   "outputs": [],
   "source": [
    "# reading csv file to dataframe\n",
    "pd.read_csv(file_name_path)\n",
    "\n",
    "# reading json file to dataframe\n",
    "pd.read_json(file_name_path, lines=True)"
   ]
  },
  {
   "cell_type": "markdown",
   "id": "863a56a3",
   "metadata": {},
   "source": [
    "##### basic data maniupulation operations"
   ]
  },
  {
   "cell_type": "code",
   "execution_count": null,
   "id": "235a665d",
   "metadata": {},
   "outputs": [],
   "source": [
    "# access column\n",
    "df[col_name]\n",
    "df.col_name"
   ]
  },
  {
   "cell_type": "markdown",
   "id": "974fdf7a",
   "metadata": {},
   "source": [
    "##### data stats"
   ]
  },
  {
   "cell_type": "code",
   "execution_count": null,
   "id": "62b714cb",
   "metadata": {},
   "outputs": [],
   "source": [
    "#describe stats for all continuous variable columns in df\n",
    "df.describe()\n",
    "\n",
    "#describe stats for one column df\n",
    "df[col_name].describe()\n"
   ]
  }
 ],
 "metadata": {
  "kernelspec": {
   "display_name": "projectEnv",
   "language": "python",
   "name": "projectenv"
  },
  "language_info": {
   "codemirror_mode": {
    "name": "ipython",
    "version": 3
   },
   "file_extension": ".py",
   "mimetype": "text/x-python",
   "name": "python",
   "nbconvert_exporter": "python",
   "pygments_lexer": "ipython3",
   "version": "3.9.7"
  }
 },
 "nbformat": 4,
 "nbformat_minor": 5
}
