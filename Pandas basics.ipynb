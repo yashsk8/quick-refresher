{
 "cells": [
  {
   "cell_type": "code",
   "execution_count": 2,
   "id": "733cdcb8",
   "metadata": {},
   "outputs": [],
   "source": [
    "import pandas as pd\n",
    "df=pd.DataFrame()"
   ]
  },
  {
   "cell_type": "markdown",
   "id": "ecf612af",
   "metadata": {},
   "source": [
    "##### Reading data from file and accessing data"
   ]
  },
  {
   "cell_type": "code",
   "execution_count": null,
   "id": "81519ae2",
   "metadata": {},
   "outputs": [],
   "source": [
    "# reading csv file to dataframe\n",
    "data = pd.read_csv(file_name_path)\n",
    "\n",
    "#reading csv file to dataframe and setting index col\n",
    "data = pd.read_csv(file_name_path, index_col =\"col\")\n",
    "\n",
    "# reading json file to dataframe\n",
    "data = pd.read_json(file_name_path, lines=True)"
   ]
  },
  {
   "cell_type": "code",
   "execution_count": 1,
   "id": "64ded1c7",
   "metadata": {},
   "outputs": [],
   "source": [
    "#list of all columns in table\n",
    "df.columns\n",
    "df.columns.values"
   ]
  },
  {
   "cell_type": "code",
   "execution_count": null,
   "id": "b27ad1fa",
   "metadata": {},
   "outputs": [],
   "source": [
    "# Get list of categorical variables\n",
    "s = (X_train.dtypes == 'object')\n",
    "object_cols = list(s[s].index)"
   ]
  },
  {
   "cell_type": "markdown",
   "id": "0b7b5997",
   "metadata": {},
   "source": [
    "###### indexing"
   ]
  },
  {
   "cell_type": "code",
   "execution_count": null,
   "id": "85610ca0",
   "metadata": {},
   "outputs": [],
   "source": [
    "#use loc to retrieve by index name\n",
    "\n",
    "#get row by index\n",
    "ans = data.loc[index_number]\n",
    "#get rows by multiple index\n",
    "ans = data.loc[[index_number1, index_number2]]\n",
    "#get rows by multiple index, and selected columns only\n",
    "ans = data.loc[[index_number1, index_number2], [\"Col1\", \"Col2\", \"Col2\"]]\n",
    "#get all rows and some columns\n",
    "ans = data.loc[:, [\"Col1\", \"Col2\", \"Col2\"]]\n",
    "\n",
    "\n",
    "#use iloc to retrieve by position\n",
    "ans = data.iloc[0] \n",
    "#retrieving multiple rows by iloc method \n",
    "ans = data.iloc[[3, 5, 7]]\n",
    "#retrieving two rows and two columns by iloc method \n",
    "ans = data.iloc [[3, 4], [1, 2]]\n",
    "#retrieving all rows and some columns by iloc method \n",
    "row2 = data.iloc [:, [1, 2]]"
   ]
  },
  {
   "cell_type": "code",
   "execution_count": null,
   "id": "deb2baaa",
   "metadata": {},
   "outputs": [],
   "source": [
    "#return top n rows of a data frame\n",
    "Dataframe.head()\n",
    "\n",
    "#return bottom n rows of a data frame\n",
    "Dataframe.tail()"
   ]
  },
  {
   "cell_type": "markdown",
   "id": "863a56a3",
   "metadata": {},
   "source": [
    "##### basic data maniupulation operations"
   ]
  },
  {
   "cell_type": "code",
   "execution_count": null,
   "id": "235a665d",
   "metadata": {},
   "outputs": [],
   "source": [
    "# access column\n",
    "df[col_name]\n",
    "df.col_name\n",
    "\n",
    "#create new column\n",
    "df['new_col']=''"
   ]
  },
  {
   "cell_type": "markdown",
   "id": "974fdf7a",
   "metadata": {},
   "source": [
    "##### data stats"
   ]
  },
  {
   "cell_type": "code",
   "execution_count": null,
   "id": "62b714cb",
   "metadata": {},
   "outputs": [],
   "source": [
    "#describe stats for all continuous variable columns in df\n",
    "df.describe()\n",
    "\n",
    "#describe stats for one column df\n",
    "df[col_name].describe()\n",
    "\n",
    "#check if any data is missing across all columns\n",
    "df.isna().sum()"
   ]
  },
  {
   "cell_type": "code",
   "execution_count": null,
   "id": "95426f8b",
   "metadata": {},
   "outputs": [],
   "source": [
    "#get freq of entries in column\n",
    "df['col_name'].value_counts()"
   ]
  }
 ],
 "metadata": {
  "kernelspec": {
   "display_name": "projectEnv",
   "language": "python",
   "name": "projectenv"
  },
  "language_info": {
   "codemirror_mode": {
    "name": "ipython",
    "version": 3
   },
   "file_extension": ".py",
   "mimetype": "text/x-python",
   "name": "python",
   "nbconvert_exporter": "python",
   "pygments_lexer": "ipython3",
   "version": "3.9.7"
  }
 },
 "nbformat": 4,
 "nbformat_minor": 5
}
