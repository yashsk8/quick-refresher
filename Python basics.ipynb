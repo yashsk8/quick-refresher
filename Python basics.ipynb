{
 "cells": [
  {
   "cell_type": "code",
   "execution_count": 4,
   "id": "f4fde12d",
   "metadata": {},
   "outputs": [],
   "source": [
    "import matplotlib.pyplot as plt\n",
    "# ^^^ pyforest auto-imports - don't write above this line\n",
    "import math\n",
    "import gzip\n",
    "import random\n",
    "import string\n",
    "import time\n",
    "import dateutil\n",
    "from tqdm.notebook import tqdm"
   ]
  },
  {
   "cell_type": "code",
   "execution_count": 5,
   "id": "db21e18f",
   "metadata": {},
   "outputs": [],
   "source": [
    "import gzip\n",
    "import numpy as np\n",
    "import pandas as pd\n",
    "import scipy as sp\n",
    "from collections import defaultdict"
   ]
  },
  {
   "cell_type": "code",
   "execution_count": 6,
   "id": "b29428c7",
   "metadata": {},
   "outputs": [],
   "source": [
    "import matplotlib.pyplot as plt\n",
    "import seaborn as sns"
   ]
  },
  {
   "cell_type": "markdown",
   "id": "fb8f46b8",
   "metadata": {},
   "source": [
    "#### Reading data from file"
   ]
  },
  {
   "cell_type": "code",
   "execution_count": 3,
   "id": "8e5bd898",
   "metadata": {},
   "outputs": [],
   "source": [
    "# parsing json data as list of json objects from file\n",
    "def parseData(file_name_path):\n",
    "    for line in open(file_name_path):\n",
    "        yield eval(line)\n",
    "\n",
    "# parsing json data as list of json objects from URL\n",
    "def parseDataFromURL(file_name_path):\n",
    "    for line in urlopen(file_name_path):\n",
    "        yield eval(line)"
   ]
  },
  {
   "cell_type": "code",
   "execution_count": 5,
   "id": "24a7090d",
   "metadata": {},
   "outputs": [],
   "source": [
    "# reading csv file to dataframe\n",
    "pd.read_csv(file_name_path)\n",
    "\n",
    "# reading json file to dataframe\n",
    "pd.read_json(file_name_path, lines=True)"
   ]
  },
  {
   "cell_type": "markdown",
   "id": "7a9bc7c8",
   "metadata": {},
   "source": [
    "###### Visualization"
   ]
  },
  {
   "cell_type": "code",
   "execution_count": 8,
   "id": "2d46587c",
   "metadata": {},
   "outputs": [],
   "source": [
    "#countplot using sns\n",
    "plt.figure(figsize=(12,6))\n",
    "\n",
    "sns.countplot(df['col_name'])\n",
    "sns.countplot(y='col_name', data=data) #alternate\n",
    "\n",
    "plt.xlabel('xlabel')\n",
    "plt.ylabel('ylabel')"
   ]
  },
  {
   "cell_type": "code",
   "execution_count": null,
   "id": "342b281a",
   "metadata": {},
   "outputs": [],
   "source": [
    "#countplot with additional data\n",
    "sns.countplot(x ='col_1', hue='col_2', data=df)"
   ]
  },
  {
   "cell_type": "code",
   "execution_count": null,
   "id": "37983f8d",
   "metadata": {},
   "outputs": [],
   "source": [
    "#draw multiple subplots\n",
    "fig, ax = plt.subplots(1, 3, figsize=(28,10))\n",
    "sns.countplot(df['Churn'], ax=ax[0])\n",
    "sns.countplot(x ='gender', hue='Churn', data=df, ax=ax[1])\n",
    "sns.countplot(x ='InternetService', hue='Churn', data=df, ax=ax[2])"
   ]
  },
  {
   "cell_type": "code",
   "execution_count": 1,
   "id": "af5ae020",
   "metadata": {},
   "outputs": [
    {
     "data": {
      "application/javascript": [
       "\n",
       "        if (window._pyforest_update_imports_cell) { window._pyforest_update_imports_cell('import matplotlib.pyplot as plt'); }\n",
       "    "
      ],
      "text/plain": [
       "<IPython.core.display.Javascript object>"
      ]
     },
     "metadata": {},
     "output_type": "display_data"
    },
    {
     "data": {
      "text/plain": [
       "Text(0.5, 1.0, 'gs[-1, -2]')"
      ]
     },
     "execution_count": 1,
     "metadata": {},
     "output_type": "execute_result"
    },
    {
     "data": {
      "image/png": "[encoded data removed]",
      "text/plain": [
       "<Figure size 432x288 with 5 Axes>"
      ]
     },
     "metadata": {
      "needs_background": "light"
     },
     "output_type": "display_data"
    }
   ],
   "source": [
    "#using grid spec for subplots -- It allows to create grid that spans rows and columns\n",
    "fig3 = plt.figure(constrained_layout=True)\n",
    "gs = fig3.add_gridspec(3, 3)\n",
    "f3_ax1 = fig3.add_subplot(gs[0, :])\n",
    "f3_ax1.set_title('gs[0, :]')\n",
    "f3_ax2 = fig3.add_subplot(gs[1, :-1])\n",
    "f3_ax2.set_title('gs[1, :-1]')\n",
    "f3_ax3 = fig3.add_subplot(gs[1:, -1])\n",
    "f3_ax3.set_title('gs[1:, -1]')\n",
    "f3_ax4 = fig3.add_subplot(gs[-1, 0])\n",
    "f3_ax4.set_title('gs[-1, 0]')\n",
    "f3_ax5 = fig3.add_subplot(gs[-1, -2])\n",
    "f3_ax5.set_title('gs[-1, -2]')"
   ]
  },
  {
   "cell_type": "code",
   "execution_count": null,
   "id": "ca43afe6",
   "metadata": {},
   "outputs": [],
   "source": [
    "#directly use pandas to visualize numeric data put into bins\n",
    "numeric_features = ['tenure', 'MonthlyCharges']\n",
    "fig, ax = plt.subplots(1, 2, figsize=(28,10))\n",
    "df[df['Churn']=='No'][numeric_features].hist(bins=20, color='blue', alpha=0.5, ax=ax)\n",
    "df[df['Churn']=='Yes'][numeric_features].hist(bins=20, color='yellow', alpha=0.5, ax=ax)"
   ]
  },
  {
   "cell_type": "code",
   "execution_count": null,
   "id": "05d62fec",
   "metadata": {},
   "outputs": [],
   "source": [
    "#pie plot\n",
    "pieplot=plt.pie(ck,labels=[\"Label1\",\"Label2\"],\n",
    "                 autopct ='%1.1f%%', \n",
    "                 shadow = True,\n",
    "                 colors = [\"Green\", \"Red\"],\n",
    "                 startangle = 90,\n",
    "                 explode=(0, 0.1))"
   ]
  },
  {
   "cell_type": "code",
   "execution_count": null,
   "id": "c6c4a06d",
   "metadata": {},
   "outputs": [],
   "source": [
    "#word cloud\n",
    "nltk.download('stopwords')\n",
    "#word cloud\n",
    "from wordcloud import WordCloud\n",
    "from nltk.corpus import stopwords\n",
    "stop=stopwords.words('english')\n",
    "\n",
    "wordCloud = WordCloud(stopwords=stop, \n",
    "                         background_color=color, \n",
    "                         width = 2500, \n",
    "                         height = 2000).generate(word_string)\n",
    "plt.figure(1, figsize=(10,7))\n",
    "plt.imshow(wordCloud) #show image\n",
    "plt.axis('off')\n",
    "plt.show()"
   ]
  },
  {
   "cell_type": "markdown",
   "id": "2ad67d84",
   "metadata": {},
   "source": [
    "###### Sorting"
   ]
  },
  {
   "cell_type": "code",
   "execution_count": null,
   "id": "f2793b40",
   "metadata": {},
   "outputs": [],
   "source": [
    "#sort list of tuples\n",
    "sorted(tuplesList, key=lambda entry:(entry[1], entry[0]), reverse=True)"
   ]
  }
 ],
 "metadata": {
  "kernelspec": {
   "display_name": "projectEnv",
   "language": "python",
   "name": "projectenv"
  },
  "language_info": {
   "codemirror_mode": {
    "name": "ipython",
    "version": 3
   },
   "file_extension": ".py",
   "mimetype": "text/x-python",
   "name": "python",
   "nbconvert_exporter": "python",
   "pygments_lexer": "ipython3",
   "version": "3.9.7"
  }
 },
 "nbformat": 4,
 "nbformat_minor": 5
}
